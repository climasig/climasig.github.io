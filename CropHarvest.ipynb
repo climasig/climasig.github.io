{
  "cells": [
    {
      "cell_type": "markdown",
      "metadata": {
        "id": "view-in-github",
        "colab_type": "text"
      },
      "source": [
        "<a href=\"https://colab.research.google.com/github/climasig/climasig.github.io/blob/main/CropHarvest.ipynb\" target=\"_parent\"><img src=\"https://colab.research.google.com/assets/colab-badge.svg\" alt=\"Open In Colab\"/></a>"
      ]
    },
    {
      "cell_type": "markdown",
      "id": "325c9810",
      "metadata": {
        "id": "325c9810"
      },
      "source": [
        "# CropHarvest Demo\n",
        "\n",
        "[![Open In Colab](https://colab.research.google.com/assets/colab-badge.svg)](https://colab.research.google.com/github/nasaharvest/cropharvest/blob/main/demo.ipynb)\n",
        "\n",
        "**Authors**: Gabriel Tseng, Ivan Zvonkov\n",
        "\n",
        "**Description**: This notebook demonstrates the capabilities of the CropHarvest package by training and testing a model on a subset of the data and then running inference using the trained model."
      ]
    },
    {
      "cell_type": "code",
      "source": [
        "# Download from PyPI\n",
        "!pip install cropharvest -q\n",
        "\n",
        "# Download from TestPyPI\n",
        "#!pip install -i https://test.pypi.org/simple/ cropharvest --extra-index-url https://pypi.python.org/simple -q"
      ],
      "metadata": {
        "id": "beyzvBH4nrU-",
        "outputId": "310f7aa7-f67e-4c7b-e64d-013abde048a0",
        "colab": {
          "base_uri": "https://localhost:8080/"
        }
      },
      "id": "beyzvBH4nrU-",
      "execution_count": 1,
      "outputs": [
        {
          "output_type": "stream",
          "name": "stdout",
          "text": [
            "\u001b[2K     \u001b[90m━━━━━━━━━━━━━━━━━━━━━━━━━━━━━━━━━━━━━━━\u001b[0m \u001b[32m809.8/809.8 kB\u001b[0m \u001b[31m7.2 MB/s\u001b[0m eta \u001b[36m0:00:00\u001b[0m\n",
            "\u001b[2K     \u001b[90m━━━━━━━━━━━━━━━━━━━━━━━━━━━━━━━━━━━━━━\u001b[0m \u001b[32m994.8/994.8 kB\u001b[0m \u001b[31m17.8 MB/s\u001b[0m eta \u001b[36m0:00:00\u001b[0m\n",
            "\u001b[2K     \u001b[90m━━━━━━━━━━━━━━━━━━━━━━━━━━━━━━━━━━━━━━━━\u001b[0m \u001b[32m21.3/21.3 MB\u001b[0m \u001b[31m46.1 MB/s\u001b[0m eta \u001b[36m0:00:00\u001b[0m\n",
            "\u001b[?25h"
          ]
        }
      ]
    },
    {
      "cell_type": "code",
      "source": [
        "!pip freeze | grep cropharvest"
      ],
      "metadata": {
        "id": "0S8zzJWwn155"
      },
      "id": "0S8zzJWwn155",
      "execution_count": null,
      "outputs": []
    },
    {
      "cell_type": "code",
      "execution_count": null,
      "id": "e62c6553",
      "metadata": {
        "id": "e62c6553"
      },
      "outputs": [],
      "source": [
        "from cropharvest.datasets import CropHarvest\n",
        "from cropharvest.inference import Inference\n",
        "from pathlib import Path\n",
        "from sklearn.ensemble import RandomForestClassifier\n",
        "\n",
        "import requests\n",
        "import tempfile\n",
        "\n",
        "DATA_DIR = \"data\"\n",
        "\n",
        "!mkdir $DATA_DIR"
      ]
    },
    {
      "cell_type": "markdown",
      "id": "7703facb",
      "metadata": {
        "id": "7703facb"
      },
      "source": [
        "## Load datasets"
      ]
    },
    {
      "cell_type": "code",
      "execution_count": null,
      "id": "d8ef538e",
      "metadata": {
        "scrolled": true,
        "id": "d8ef538e"
      },
      "outputs": [],
      "source": [
        "evaluation_datasets = CropHarvest.create_benchmark_datasets(DATA_DIR)\n",
        "evaluation_datasets"
      ]
    },
    {
      "cell_type": "markdown",
      "id": "e79554ac",
      "metadata": {
        "id": "e79554ac"
      },
      "source": [
        "## Split Togo data into X and y"
      ]
    },
    {
      "cell_type": "code",
      "execution_count": null,
      "id": "8f326f27",
      "metadata": {
        "id": "8f326f27"
      },
      "outputs": [],
      "source": [
        "togo_dataset = evaluation_datasets[-1]\n",
        "X, y = togo_dataset.as_array(flatten_x=True)\n",
        "\n",
        "assert X.shape[0] == 1290\n",
        "assert y.shape[0] == 1290\n",
        "assert X.shape[1] == 216\n",
        "\n",
        "X.shape, y.shape"
      ]
    },
    {
      "cell_type": "markdown",
      "id": "147e7c93",
      "metadata": {
        "id": "147e7c93"
      },
      "source": [
        "## Train a Random Forest model on the Togo dataset"
      ]
    },
    {
      "cell_type": "code",
      "execution_count": null,
      "id": "8351896b",
      "metadata": {
        "id": "8351896b"
      },
      "outputs": [],
      "source": [
        "model = RandomForestClassifier(random_state=0)\n",
        "model.fit(X, y)"
      ]
    },
    {
      "cell_type": "markdown",
      "id": "c03e4273",
      "metadata": {
        "id": "c03e4273"
      },
      "source": [
        "## Make predictions on Togo test set"
      ]
    },
    {
      "cell_type": "code",
      "execution_count": null,
      "id": "0f47915e",
      "metadata": {
        "id": "0f47915e"
      },
      "outputs": [],
      "source": [
        "test_preds, test_instances = [], []\n",
        "for _, test_instance in togo_dataset.test_data(flatten_x=True):\n",
        "    test_preds.append(model.predict_proba(test_instance.x)[:, 1])\n",
        "    test_instances.append(test_instance)\n",
        "\n",
        "print(\n",
        "    f\"For the Random Forest classifier, \"\n",
        "    f\"{test_instances[0].evaluate_predictions(test_preds[0])}, \"\n",
        ")\n",
        "\n",
        "metrics = test_instances[0].evaluate_predictions(test_preds[0])\n",
        "assert metrics[\"f1_score\"] > 0.73, \"Default model f1-score should be greater than 0.73\"\n",
        "assert metrics[\"auc_roc\"] > 0.88, \"Default model AUC-ROC should be greater than 0.88\""
      ]
    },
    {
      "cell_type": "markdown",
      "id": "b9b06817",
      "metadata": {
        "id": "b9b06817"
      },
      "source": [
        "## Get test file for inference"
      ]
    },
    {
      "cell_type": "code",
      "execution_count": null,
      "id": "8e5e60cd",
      "metadata": {
        "id": "8e5e60cd"
      },
      "outputs": [],
      "source": [
        "test_file = \"98-togo_2019-02-06_2020-02-01.tif\"\n",
        "\n",
        "temp_dir = tempfile.gettempdir()\n",
        "p = Path(temp_dir) / test_file\n",
        "response = requests.get(\n",
        "    f\"https://github.com/nasaharvest/cropharvest/blob/main/test/cropharvest/{test_file}?raw=true\",\n",
        ")\n",
        "with p.open(\"wb\") as f:\n",
        "    f.write(response.content)"
      ]
    },
    {
      "cell_type": "markdown",
      "id": "e61d7ae0",
      "metadata": {
        "id": "e61d7ae0"
      },
      "source": [
        "## Run inference"
      ]
    },
    {
      "cell_type": "code",
      "execution_count": null,
      "id": "2402cbb4",
      "metadata": {
        "scrolled": false,
        "id": "2402cbb4"
      },
      "outputs": [],
      "source": [
        "preds = Inference(model=model, normalizing_dict=None).run(p)\n",
        "\n",
        "# Check size\n",
        "assert preds.dims[\"lat\"] == 17\n",
        "assert preds.dims[\"lon\"] == 17\n",
        "\n",
        "# Check all predictions between 0 and 1\n",
        "assert preds.min() >= 0\n",
        "assert preds.max() <= 1\n",
        "\n",
        "preds"
      ]
    },
    {
      "cell_type": "markdown",
      "id": "98bf4ee3",
      "metadata": {
        "id": "98bf4ee3"
      },
      "source": [
        "## [Optional] Visualize model prediction"
      ]
    },
    {
      "cell_type": "code",
      "execution_count": null,
      "id": "33f80c45",
      "metadata": {
        "id": "33f80c45"
      },
      "outputs": [],
      "source": [
        "!pip install matplotlib -q"
      ]
    },
    {
      "cell_type": "code",
      "execution_count": null,
      "id": "0d559099",
      "metadata": {
        "id": "0d559099"
      },
      "outputs": [],
      "source": [
        "import matplotlib.pyplot as plt"
      ]
    },
    {
      "cell_type": "code",
      "execution_count": null,
      "id": "6c1f182b",
      "metadata": {
        "id": "6c1f182b"
      },
      "outputs": [],
      "source": [
        "preds_np = preds.to_array()[0]\n",
        "plt.pcolormesh(preds_np.lon, preds_np.lat, preds_np.data)\n",
        "plt.xlabel(\"Longitude\")\n",
        "plt.ylabel(\"Latitude\");"
      ]
    }
  ],
  "metadata": {
    "kernelspec": {
      "display_name": "Python 3 (ipykernel)",
      "language": "python",
      "name": "python3"
    },
    "language_info": {
      "codemirror_mode": {
        "name": "ipython",
        "version": 3
      },
      "file_extension": ".py",
      "mimetype": "text/x-python",
      "name": "python",
      "nbconvert_exporter": "python",
      "pygments_lexer": "ipython3",
      "version": "3.7.12"
    },
    "colab": {
      "name": "demo.ipynb",
      "provenance": [],
      "include_colab_link": true
    }
  },
  "nbformat": 4,
  "nbformat_minor": 5
}